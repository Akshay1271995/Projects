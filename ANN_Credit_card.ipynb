{
  "nbformat": 4,
  "nbformat_minor": 0,
  "metadata": {
    "colab": {
      "name": "ANN Credit card.ipynb",
      "provenance": [],
      "collapsed_sections": []
    },
    "kernelspec": {
      "name": "python3",
      "display_name": "Python 3"
    },
    "accelerator": "GPU"
  },
  "cells": [
    {
      "cell_type": "code",
      "metadata": {
        "id": "yFnSrqldRxpR"
      },
      "source": [
        "import numpy as np\n",
        "import pandas as pd\n",
        "import tensorflow as tf"
      ],
      "execution_count": null,
      "outputs": []
    },
    {
      "cell_type": "code",
      "metadata": {
        "id": "BZIz2i0JTQD-"
      },
      "source": [
        "df=pd.read_csv(\"/content/drive/My Drive/Data sets/BankCreditCard.csv\")"
      ],
      "execution_count": null,
      "outputs": []
    },
    {
      "cell_type": "code",
      "metadata": {
        "id": "SXgcW1XVT4YI",
        "outputId": "8a1c38de-af69-46e1-cedc-894fdc67b151",
        "colab": {
          "base_uri": "https://localhost:8080/",
          "height": 159
        }
      },
      "source": [
        "print(df.head())"
      ],
      "execution_count": null,
      "outputs": [
        {
          "output_type": "stream",
          "text": [
            "   Customer ID  Credit_Amount  ...  Previous_Payment_June  Default_Payment\n",
            "0            1        20000.0  ...                    0.0                1\n",
            "1            2       220000.0  ...                 2000.0                1\n",
            "2            3        90000.0  ...                 5000.0                0\n",
            "3            4        50000.0  ...                 1000.0                0\n",
            "4            5        50000.0  ...                  679.0                0\n",
            "\n",
            "[5 rows x 25 columns]\n"
          ],
          "name": "stdout"
        }
      ]
    },
    {
      "cell_type": "code",
      "metadata": {
        "id": "ywGGUzDET9ac",
        "outputId": "bb980386-2258-4517-a6b6-1b76a93dbdac",
        "colab": {
          "base_uri": "https://localhost:8080/",
          "height": 479
        }
      },
      "source": [
        "df.isnull().sum()"
      ],
      "execution_count": null,
      "outputs": [
        {
          "output_type": "execute_result",
          "data": {
            "text/plain": [
              "Customer ID               0\n",
              "Credit_Amount             0\n",
              "Gender                    0\n",
              "Academic_Qualification    0\n",
              "Marital                   0\n",
              "Age_Years                 0\n",
              "Repayment_Status_Jan      0\n",
              "Repayment_Status_Feb      0\n",
              "Repayment_Status_March    0\n",
              "Repayment_Status_April    0\n",
              "Repayment_Status_May      0\n",
              "Repayment_Status_June     0\n",
              "Jan_Bill_Amount           0\n",
              "Feb_Bill_Amount           0\n",
              "March_Bill_Amount         0\n",
              "April_Bill_Amount         0\n",
              "May_Bill_Amount           0\n",
              "June_Bill_Amount          0\n",
              "Previous_Payment_Jan      0\n",
              "Previous_Payment_Feb      0\n",
              "Previous_Payment_March    0\n",
              "Previous_Payment_April    0\n",
              "Previous_Payment_May      0\n",
              "Previous_Payment_June     0\n",
              "Default_Payment           0\n",
              "dtype: int64"
            ]
          },
          "metadata": {
            "tags": []
          },
          "execution_count": 6
        }
      ]
    },
    {
      "cell_type": "code",
      "metadata": {
        "id": "ITGx1MBIU4TQ",
        "outputId": "d0a9875b-7a0d-429c-9317-549c22e75053",
        "colab": {
          "base_uri": "https://localhost:8080/",
          "height": 479
        }
      },
      "source": [
        "df.dtypes"
      ],
      "execution_count": null,
      "outputs": [
        {
          "output_type": "execute_result",
          "data": {
            "text/plain": [
              "Customer ID                 int64\n",
              "Credit_Amount             float64\n",
              "Gender                      int64\n",
              "Academic_Qualification      int64\n",
              "Marital                     int64\n",
              "Age_Years                   int64\n",
              "Repayment_Status_Jan        int64\n",
              "Repayment_Status_Feb        int64\n",
              "Repayment_Status_March      int64\n",
              "Repayment_Status_April      int64\n",
              "Repayment_Status_May        int64\n",
              "Repayment_Status_June       int64\n",
              "Jan_Bill_Amount           float64\n",
              "Feb_Bill_Amount           float64\n",
              "March_Bill_Amount         float64\n",
              "April_Bill_Amount         float64\n",
              "May_Bill_Amount           float64\n",
              "June_Bill_Amount          float64\n",
              "Previous_Payment_Jan      float64\n",
              "Previous_Payment_Feb      float64\n",
              "Previous_Payment_March    float64\n",
              "Previous_Payment_April    float64\n",
              "Previous_Payment_May      float64\n",
              "Previous_Payment_June     float64\n",
              "Default_Payment             int64\n",
              "dtype: object"
            ]
          },
          "metadata": {
            "tags": []
          },
          "execution_count": 7
        }
      ]
    },
    {
      "cell_type": "code",
      "metadata": {
        "id": "vWURhVDZUXh1",
        "outputId": "0f94b6c9-373a-42dc-c357-386e80461fd9",
        "colab": {
          "base_uri": "https://localhost:8080/",
          "height": 35
        }
      },
      "source": [
        "df.shape"
      ],
      "execution_count": null,
      "outputs": [
        {
          "output_type": "execute_result",
          "data": {
            "text/plain": [
              "(30000, 25)"
            ]
          },
          "metadata": {
            "tags": []
          },
          "execution_count": 8
        }
      ]
    },
    {
      "cell_type": "code",
      "metadata": {
        "id": "h0fgfGNmUG-c"
      },
      "source": [
        "X = df.iloc[:, 0:25].values\n",
        "y = df.iloc[:, -1].values"
      ],
      "execution_count": null,
      "outputs": []
    },
    {
      "cell_type": "code",
      "metadata": {
        "id": "EgqJ2Gm2Uq6q"
      },
      "source": [
        "from sklearn.model_selection import train_test_split\n",
        "X_train, X_test, y_train, y_test = train_test_split(X, y, test_size = 0.2, random_state = 0)"
      ],
      "execution_count": null,
      "outputs": []
    },
    {
      "cell_type": "code",
      "metadata": {
        "id": "vmNaSuwrVAPF"
      },
      "source": [
        "from sklearn.preprocessing import StandardScaler\n",
        "sc = StandardScaler()\n",
        "X_train = sc.fit_transform(X_train)\n",
        "X_test = sc.transform(X_test)"
      ],
      "execution_count": null,
      "outputs": []
    },
    {
      "cell_type": "code",
      "metadata": {
        "id": "iPGJzgpNVFgP"
      },
      "source": [
        "ann = tf.keras.models.Sequential()"
      ],
      "execution_count": null,
      "outputs": []
    },
    {
      "cell_type": "code",
      "metadata": {
        "id": "5jVZIEp2VJHe"
      },
      "source": [
        "ann.add(tf.keras.layers.Dense(units=6,activation=\"relu\"))"
      ],
      "execution_count": null,
      "outputs": []
    },
    {
      "cell_type": "code",
      "metadata": {
        "id": "ZiaC195jVMT6"
      },
      "source": [
        "ann.add(tf.keras.layers.Dense(units=6,activation=\"relu\"))"
      ],
      "execution_count": null,
      "outputs": []
    },
    {
      "cell_type": "code",
      "metadata": {
        "id": "0cBou7DnVPNi"
      },
      "source": [
        "ann.add(tf.keras.layers.Dense(units=1,activation=\"sigmoid\"))"
      ],
      "execution_count": null,
      "outputs": []
    },
    {
      "cell_type": "code",
      "metadata": {
        "id": "p9FM4w4AVSJH"
      },
      "source": [
        "ann.compile(optimizer=\"adam\",loss=\"binary_crossentropy\", metrics=[\"accuracy\"])"
      ],
      "execution_count": null,
      "outputs": []
    },
    {
      "cell_type": "code",
      "metadata": {
        "id": "wlaipMzJVWwR",
        "outputId": "17007fcb-8a21-4c61-a55c-c612deeef02f",
        "colab": {
          "base_uri": "https://localhost:8080/",
          "height": 1000
        }
      },
      "source": [
        "ann.fit(X_train,y_train, batch_size=32, epochs=100)"
      ],
      "execution_count": null,
      "outputs": [
        {
          "output_type": "stream",
          "text": [
            "Epoch 1/100\n",
            "750/750 [==============================] - 2s 2ms/step - loss: 0.3626 - accuracy: 0.8466\n",
            "Epoch 2/100\n",
            "750/750 [==============================] - 2s 2ms/step - loss: 0.0203 - accuracy: 0.9990\n",
            "Epoch 3/100\n",
            "750/750 [==============================] - 2s 2ms/step - loss: 0.0039 - accuracy: 0.9997\n",
            "Epoch 4/100\n",
            "750/750 [==============================] - 2s 2ms/step - loss: 0.0012 - accuracy: 1.0000\n",
            "Epoch 5/100\n",
            "750/750 [==============================] - 2s 2ms/step - loss: 4.9639e-04 - accuracy: 1.0000\n",
            "Epoch 6/100\n",
            "750/750 [==============================] - 2s 2ms/step - loss: 2.4409e-04 - accuracy: 1.0000\n",
            "Epoch 7/100\n",
            "750/750 [==============================] - 2s 2ms/step - loss: 1.3526e-04 - accuracy: 1.0000\n",
            "Epoch 8/100\n",
            "750/750 [==============================] - 2s 2ms/step - loss: 7.8974e-05 - accuracy: 1.0000\n",
            "Epoch 9/100\n",
            "750/750 [==============================] - 2s 2ms/step - loss: 4.7517e-05 - accuracy: 1.0000\n",
            "Epoch 10/100\n",
            "750/750 [==============================] - 2s 2ms/step - loss: 2.9067e-05 - accuracy: 1.0000\n",
            "Epoch 11/100\n",
            "750/750 [==============================] - 2s 2ms/step - loss: 1.8162e-05 - accuracy: 1.0000\n",
            "Epoch 12/100\n",
            "750/750 [==============================] - 2s 2ms/step - loss: 1.1479e-05 - accuracy: 1.0000\n",
            "Epoch 13/100\n",
            "750/750 [==============================] - 2s 2ms/step - loss: 7.3073e-06 - accuracy: 1.0000\n",
            "Epoch 14/100\n",
            "750/750 [==============================] - 2s 2ms/step - loss: 4.6883e-06 - accuracy: 1.0000\n",
            "Epoch 15/100\n",
            "750/750 [==============================] - 2s 2ms/step - loss: 3.0190e-06 - accuracy: 1.0000\n",
            "Epoch 16/100\n",
            "750/750 [==============================] - 2s 3ms/step - loss: 1.9640e-06 - accuracy: 1.0000\n",
            "Epoch 17/100\n",
            "750/750 [==============================] - 2s 2ms/step - loss: 1.2741e-06 - accuracy: 1.0000\n",
            "Epoch 18/100\n",
            "750/750 [==============================] - 2s 2ms/step - loss: 8.3350e-07 - accuracy: 1.0000\n",
            "Epoch 19/100\n",
            "750/750 [==============================] - 2s 2ms/step - loss: 5.4616e-07 - accuracy: 1.0000\n",
            "Epoch 20/100\n",
            "750/750 [==============================] - 2s 2ms/step - loss: 3.5795e-07 - accuracy: 1.0000\n",
            "Epoch 21/100\n",
            "750/750 [==============================] - 2s 2ms/step - loss: 2.3420e-07 - accuracy: 1.0000\n",
            "Epoch 22/100\n",
            "750/750 [==============================] - 2s 2ms/step - loss: 1.5327e-07 - accuracy: 1.0000\n",
            "Epoch 23/100\n",
            "750/750 [==============================] - 2s 2ms/step - loss: 1.0071e-07 - accuracy: 1.0000\n",
            "Epoch 24/100\n",
            "750/750 [==============================] - 2s 2ms/step - loss: 6.6622e-08 - accuracy: 1.0000\n",
            "Epoch 25/100\n",
            "750/750 [==============================] - 2s 2ms/step - loss: 4.4161e-08 - accuracy: 1.0000\n",
            "Epoch 26/100\n",
            "750/750 [==============================] - 2s 2ms/step - loss: 2.9556e-08 - accuracy: 1.0000\n",
            "Epoch 27/100\n",
            "750/750 [==============================] - 2s 2ms/step - loss: 1.9886e-08 - accuracy: 1.0000\n",
            "Epoch 28/100\n",
            "750/750 [==============================] - 2s 2ms/step - loss: 1.3453e-08 - accuracy: 1.0000\n",
            "Epoch 29/100\n",
            "750/750 [==============================] - 2s 2ms/step - loss: 9.2379e-09 - accuracy: 1.0000\n",
            "Epoch 30/100\n",
            "750/750 [==============================] - 2s 2ms/step - loss: 6.4142e-09 - accuracy: 1.0000\n",
            "Epoch 31/100\n",
            "750/750 [==============================] - 2s 2ms/step - loss: 4.5318e-09 - accuracy: 1.0000\n",
            "Epoch 32/100\n",
            "750/750 [==============================] - 2s 2ms/step - loss: 3.2741e-09 - accuracy: 1.0000\n",
            "Epoch 33/100\n",
            "750/750 [==============================] - 2s 3ms/step - loss: 2.4031e-09 - accuracy: 1.0000\n",
            "Epoch 34/100\n",
            "750/750 [==============================] - 2s 2ms/step - loss: 1.7978e-09 - accuracy: 1.0000\n",
            "Epoch 35/100\n",
            "750/750 [==============================] - 2s 2ms/step - loss: 1.3660e-09 - accuracy: 1.0000\n",
            "Epoch 36/100\n",
            "750/750 [==============================] - 2s 2ms/step - loss: 1.0549e-09 - accuracy: 1.0000\n",
            "Epoch 37/100\n",
            "750/750 [==============================] - 2s 2ms/step - loss: 8.4112e-10 - accuracy: 1.0000\n",
            "Epoch 38/100\n",
            "750/750 [==============================] - 2s 2ms/step - loss: 6.9434e-10 - accuracy: 1.0000\n",
            "Epoch 39/100\n",
            "750/750 [==============================] - 2s 2ms/step - loss: 5.8077e-10 - accuracy: 1.0000\n",
            "Epoch 40/100\n",
            "750/750 [==============================] - 2s 2ms/step - loss: 4.9374e-10 - accuracy: 1.0000\n",
            "Epoch 41/100\n",
            "750/750 [==============================] - 2s 2ms/step - loss: 4.3102e-10 - accuracy: 1.0000\n",
            "Epoch 42/100\n",
            "750/750 [==============================] - 2s 2ms/step - loss: 3.8484e-10 - accuracy: 1.0000\n",
            "Epoch 43/100\n",
            "750/750 [==============================] - 2s 2ms/step - loss: 3.4415e-10 - accuracy: 1.0000\n",
            "Epoch 44/100\n",
            "750/750 [==============================] - 2s 2ms/step - loss: 3.1818e-10 - accuracy: 1.0000\n",
            "Epoch 45/100\n",
            "750/750 [==============================] - 2s 2ms/step - loss: 2.9150e-10 - accuracy: 1.0000\n",
            "Epoch 46/100\n",
            "750/750 [==============================] - 2s 3ms/step - loss: 2.6947e-10 - accuracy: 1.0000\n",
            "Epoch 47/100\n",
            "750/750 [==============================] - 2s 3ms/step - loss: 2.5443e-10 - accuracy: 1.0000\n",
            "Epoch 48/100\n",
            "750/750 [==============================] - 2s 2ms/step - loss: 2.4562e-10 - accuracy: 1.0000\n",
            "Epoch 49/100\n",
            "750/750 [==============================] - 2s 2ms/step - loss: 2.3461e-10 - accuracy: 1.0000\n",
            "Epoch 50/100\n",
            "750/750 [==============================] - 2s 3ms/step - loss: 2.2693e-10 - accuracy: 1.0000\n",
            "Epoch 51/100\n",
            "750/750 [==============================] - 2s 2ms/step - loss: 2.1898e-10 - accuracy: 1.0000\n",
            "Epoch 52/100\n",
            "750/750 [==============================] - 2s 2ms/step - loss: 2.1443e-10 - accuracy: 1.0000\n",
            "Epoch 53/100\n",
            "750/750 [==============================] - 2s 2ms/step - loss: 2.0844e-10 - accuracy: 1.0000\n",
            "Epoch 54/100\n",
            "750/750 [==============================] - 2s 2ms/step - loss: 2.0476e-10 - accuracy: 1.0000\n",
            "Epoch 55/100\n",
            "750/750 [==============================] - 2s 2ms/step - loss: 1.9951e-10 - accuracy: 1.0000\n",
            "Epoch 56/100\n",
            "750/750 [==============================] - 2s 3ms/step - loss: 1.9662e-10 - accuracy: 1.0000\n",
            "Epoch 57/100\n",
            "750/750 [==============================] - 2s 2ms/step - loss: 1.9387e-10 - accuracy: 1.0000\n",
            "Epoch 58/100\n",
            "750/750 [==============================] - 2s 3ms/step - loss: 1.8937e-10 - accuracy: 1.0000\n",
            "Epoch 59/100\n",
            "750/750 [==============================] - 2s 2ms/step - loss: 1.8710e-10 - accuracy: 1.0000\n",
            "Epoch 60/100\n",
            "750/750 [==============================] - 2s 3ms/step - loss: 1.8606e-10 - accuracy: 1.0000\n",
            "Epoch 61/100\n",
            "750/750 [==============================] - 2s 2ms/step - loss: 1.8447e-10 - accuracy: 1.0000\n",
            "Epoch 62/100\n",
            "750/750 [==============================] - 2s 2ms/step - loss: 1.8158e-10 - accuracy: 1.0000\n",
            "Epoch 63/100\n",
            "750/750 [==============================] - 2s 2ms/step - loss: 1.8140e-10 - accuracy: 1.0000\n",
            "Epoch 64/100\n",
            "750/750 [==============================] - 2s 2ms/step - loss: 1.7878e-10 - accuracy: 1.0000\n",
            "Epoch 65/100\n",
            "750/750 [==============================] - 2s 2ms/step - loss: 1.7870e-10 - accuracy: 1.0000\n",
            "Epoch 66/100\n",
            "750/750 [==============================] - 2s 2ms/step - loss: 1.7771e-10 - accuracy: 1.0000\n",
            "Epoch 67/100\n",
            "750/750 [==============================] - 2s 2ms/step - loss: 1.7727e-10 - accuracy: 1.0000\n",
            "Epoch 68/100\n",
            "750/750 [==============================] - 2s 3ms/step - loss: 1.7666e-10 - accuracy: 1.0000\n",
            "Epoch 69/100\n",
            "750/750 [==============================] - 2s 2ms/step - loss: 1.7183e-10 - accuracy: 1.0000\n",
            "Epoch 70/100\n",
            "750/750 [==============================] - 2s 2ms/step - loss: 1.7130e-10 - accuracy: 1.0000\n",
            "Epoch 71/100\n",
            "750/750 [==============================] - 2s 2ms/step - loss: 1.7128e-10 - accuracy: 1.0000\n",
            "Epoch 72/100\n",
            "750/750 [==============================] - 2s 3ms/step - loss: 1.6977e-10 - accuracy: 1.0000\n",
            "Epoch 73/100\n",
            "750/750 [==============================] - 2s 2ms/step - loss: 1.7012e-10 - accuracy: 1.0000\n",
            "Epoch 74/100\n",
            "750/750 [==============================] - 2s 2ms/step - loss: 1.6796e-10 - accuracy: 1.0000\n",
            "Epoch 75/100\n",
            "750/750 [==============================] - 2s 2ms/step - loss: 1.6728e-10 - accuracy: 1.0000\n",
            "Epoch 76/100\n",
            "750/750 [==============================] - 2s 2ms/step - loss: 1.6754e-10 - accuracy: 1.0000\n",
            "Epoch 77/100\n",
            "750/750 [==============================] - 2s 2ms/step - loss: 1.6588e-10 - accuracy: 1.0000\n",
            "Epoch 78/100\n",
            "750/750 [==============================] - 2s 2ms/step - loss: 1.6570e-10 - accuracy: 1.0000\n",
            "Epoch 79/100\n",
            "750/750 [==============================] - 2s 3ms/step - loss: 1.6600e-10 - accuracy: 1.0000\n",
            "Epoch 80/100\n",
            "750/750 [==============================] - 2s 2ms/step - loss: 1.6426e-10 - accuracy: 1.0000\n",
            "Epoch 81/100\n",
            "750/750 [==============================] - 2s 2ms/step - loss: 1.6284e-10 - accuracy: 1.0000\n",
            "Epoch 82/100\n",
            "750/750 [==============================] - 2s 2ms/step - loss: 1.6247e-10 - accuracy: 1.0000\n",
            "Epoch 83/100\n",
            "750/750 [==============================] - 2s 2ms/step - loss: 1.6298e-10 - accuracy: 1.0000\n",
            "Epoch 84/100\n",
            "750/750 [==============================] - 2s 2ms/step - loss: 1.6262e-10 - accuracy: 1.0000\n",
            "Epoch 85/100\n",
            "750/750 [==============================] - 2s 2ms/step - loss: 1.6171e-10 - accuracy: 1.0000\n",
            "Epoch 86/100\n",
            "750/750 [==============================] - 2s 2ms/step - loss: 1.6225e-10 - accuracy: 1.0000\n",
            "Epoch 87/100\n",
            "750/750 [==============================] - 2s 2ms/step - loss: 1.6203e-10 - accuracy: 1.0000\n",
            "Epoch 88/100\n",
            "750/750 [==============================] - 2s 2ms/step - loss: 1.6209e-10 - accuracy: 1.0000\n",
            "Epoch 89/100\n",
            "750/750 [==============================] - 2s 2ms/step - loss: 1.6086e-10 - accuracy: 1.0000\n",
            "Epoch 90/100\n",
            "750/750 [==============================] - 2s 2ms/step - loss: 1.6061e-10 - accuracy: 1.0000\n",
            "Epoch 91/100\n",
            "750/750 [==============================] - 2s 3ms/step - loss: 1.5785e-10 - accuracy: 1.0000\n",
            "Epoch 92/100\n",
            "750/750 [==============================] - 2s 3ms/step - loss: 1.5819e-10 - accuracy: 1.0000\n",
            "Epoch 93/100\n",
            "750/750 [==============================] - 2s 2ms/step - loss: 1.5855e-10 - accuracy: 1.0000\n",
            "Epoch 94/100\n",
            "750/750 [==============================] - 2s 2ms/step - loss: 1.5909e-10 - accuracy: 1.0000\n",
            "Epoch 95/100\n",
            "750/750 [==============================] - 2s 2ms/step - loss: 1.5761e-10 - accuracy: 1.0000\n",
            "Epoch 96/100\n",
            "750/750 [==============================] - 2s 2ms/step - loss: 1.5718e-10 - accuracy: 1.0000\n",
            "Epoch 97/100\n",
            "750/750 [==============================] - 2s 3ms/step - loss: 1.5718e-10 - accuracy: 1.0000\n",
            "Epoch 98/100\n",
            "750/750 [==============================] - 2s 3ms/step - loss: 1.5627e-10 - accuracy: 1.0000\n",
            "Epoch 99/100\n",
            "750/750 [==============================] - 2s 3ms/step - loss: 1.5455e-10 - accuracy: 1.0000\n",
            "Epoch 100/100\n",
            "750/750 [==============================] - 2s 3ms/step - loss: 1.5488e-10 - accuracy: 1.0000\n"
          ],
          "name": "stdout"
        },
        {
          "output_type": "execute_result",
          "data": {
            "text/plain": [
              "<tensorflow.python.keras.callbacks.History at 0x7f8eb04c37b8>"
            ]
          },
          "metadata": {
            "tags": []
          },
          "execution_count": 17
        }
      ]
    },
    {
      "cell_type": "code",
      "metadata": {
        "id": "k8_7B1UhV1V1",
        "outputId": "e434ac0d-62fc-4ebb-a64e-87124bc99943",
        "colab": {
          "base_uri": "https://localhost:8080/",
          "height": 141
        }
      },
      "source": [
        "y_pred=ann.predict(X_test)\n",
        "y_pred=(y_pred>0.5)\n",
        "print(np.concatenate((y_pred.reshape(len(y_pred),1),y_test.reshape(len(y_test),1)),1))"
      ],
      "execution_count": null,
      "outputs": [
        {
          "output_type": "stream",
          "text": [
            "[[0 0]\n",
            " [0 0]\n",
            " [0 0]\n",
            " ...\n",
            " [1 1]\n",
            " [0 0]\n",
            " [0 0]]\n"
          ],
          "name": "stdout"
        }
      ]
    },
    {
      "cell_type": "code",
      "metadata": {
        "id": "O0H4tI51W11f",
        "outputId": "ee2962bd-b0fb-48a8-d6eb-020cf145c287",
        "colab": {
          "base_uri": "https://localhost:8080/",
          "height": 52
        }
      },
      "source": [
        "from sklearn.metrics import confusion_matrix, accuracy_score\n",
        "cm=confusion_matrix(y_test,y_pred)\n",
        "print(cm)\n",
        "accuracy_score=(y_test,y_pred)"
      ],
      "execution_count": null,
      "outputs": [
        {
          "output_type": "stream",
          "text": [
            "[[4703    0]\n",
            " [   0 1297]]\n"
          ],
          "name": "stdout"
        }
      ]
    },
    {
      "cell_type": "code",
      "metadata": {
        "id": "DkTJbBAHW5tv",
        "outputId": "977d3a6d-e879-4ec5-84ec-0e0695bb7822",
        "colab": {
          "base_uri": "https://localhost:8080/",
          "height": 141
        }
      },
      "source": [
        "accuracy_score"
      ],
      "execution_count": null,
      "outputs": [
        {
          "output_type": "execute_result",
          "data": {
            "text/plain": [
              "(array([0, 0, 0, ..., 1, 0, 0]), array([[False],\n",
              "        [False],\n",
              "        [False],\n",
              "        ...,\n",
              "        [ True],\n",
              "        [False],\n",
              "        [False]]))"
            ]
          },
          "metadata": {
            "tags": []
          },
          "execution_count": 22
        }
      ]
    },
    {
      "cell_type": "code",
      "metadata": {
        "id": "cCOeM1C_X-be"
      },
      "source": [
        ""
      ],
      "execution_count": null,
      "outputs": []
    }
  ]
}